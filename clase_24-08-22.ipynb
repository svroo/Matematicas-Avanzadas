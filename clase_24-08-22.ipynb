{
 "cells": [
  {
   "cell_type": "markdown",
   "metadata": {},
   "source": [
    "## Clase 24/08/2022\n",
    "\n",
    "Librerias requeridas y demas asuntos."
   ]
  },
  {
   "cell_type": "code",
   "execution_count": 1,
   "metadata": {},
   "outputs": [],
   "source": [
    "import math\n",
    "import numpy\n",
    "import pandas\n",
    "import matplotlib"
   ]
  },
  {
   "cell_type": "code",
   "execution_count": 2,
   "metadata": {},
   "outputs": [],
   "source": [
    "from math import pi # Tambien podemos acccesar solo algunos metodos o constantes especificos de una biblioteca"
   ]
  },
  {
   "cell_type": "code",
   "execution_count": 3,
   "metadata": {},
   "outputs": [],
   "source": [
    "from math import * # De esta forma accesamos a todos los componentes incluidos en una biblioteca dada"
   ]
  },
  {
   "cell_type": "code",
   "execution_count": 4,
   "metadata": {},
   "outputs": [
    {
     "name": "stdout",
     "output_type": "stream",
     "text": [
      "3.141592653589793\n"
     ]
    },
    {
     "data": {
      "text/plain": [
       "2.718281828459045"
      ]
     },
     "execution_count": 4,
     "metadata": {},
     "output_type": "execute_result"
    }
   ],
   "source": [
    "math.pi #Cagamos algunoas constantes especificas\n",
    "print(math.pi)\n",
    "math.e"
   ]
  },
  {
   "cell_type": "code",
   "execution_count": 6,
   "metadata": {},
   "outputs": [
    {
     "data": {
      "text/plain": [
       "nan"
      ]
     },
     "execution_count": 6,
     "metadata": {},
     "output_type": "execute_result"
    }
   ],
   "source": [
    "math.nan"
   ]
  },
  {
   "cell_type": "code",
   "execution_count": 8,
   "metadata": {},
   "outputs": [
    {
     "data": {
      "text/plain": [
       "inf"
      ]
     },
     "execution_count": 8,
     "metadata": {},
     "output_type": "execute_result"
    }
   ],
   "source": [
    "math.inf\n",
    "- math.inf\n",
    "float(inf)"
   ]
  },
  {
   "cell_type": "markdown",
   "metadata": {},
   "source": [
    "También podemos invocar algunas funciones pre-programadas"
   ]
  },
  {
   "cell_type": "code",
   "execution_count": 9,
   "metadata": {},
   "outputs": [
    {
     "ename": "ValueError",
     "evalue": "math domain error",
     "output_type": "error",
     "traceback": [
      "\u001b[1;31m---------------------------------------------------------------------------\u001b[0m",
      "\u001b[1;31mValueError\u001b[0m                                Traceback (most recent call last)",
      "\u001b[1;32mc:\\Users\\hp\\Documents\\VSCode\\Matematicas Avanzadas\\clase_24-08-22.ipynb Celda 9\u001b[0m in \u001b[0;36m<cell line: 1>\u001b[1;34m()\u001b[0m\n\u001b[1;32m----> <a href='vscode-notebook-cell:/c%3A/Users/hp/Documents/VSCode/Matematicas%20Avanzadas/clase_24-08-22.ipynb#X13sZmlsZQ%3D%3D?line=0'>1</a>\u001b[0m math\u001b[39m.\u001b[39;49msqrt(\u001b[39m-\u001b[39;49m\u001b[39m34.8\u001b[39;49m)\n",
      "\u001b[1;31mValueError\u001b[0m: math domain error"
     ]
    }
   ],
   "source": [
    "math.sqrt(-34.8)"
   ]
  },
  {
   "cell_type": "code",
   "execution_count": 10,
   "metadata": {},
   "outputs": [
    {
     "data": {
      "text/plain": [
       "3.0596455992976437"
      ]
     },
     "execution_count": 10,
     "metadata": {},
     "output_type": "execute_result"
    }
   ],
   "source": [
    "math.log(21.32)"
   ]
  },
  {
   "cell_type": "code",
   "execution_count": 11,
   "metadata": {},
   "outputs": [
    {
     "data": {
      "text/plain": [
       "1.0"
      ]
     },
     "execution_count": 11,
     "metadata": {},
     "output_type": "execute_result"
    }
   ],
   "source": [
    "math.pow(math.nan,0)"
   ]
  },
  {
   "cell_type": "code",
   "execution_count": 12,
   "metadata": {},
   "outputs": [
    {
     "ename": "ValueError",
     "evalue": "math domain error",
     "output_type": "error",
     "traceback": [
      "\u001b[1;31m---------------------------------------------------------------------------\u001b[0m",
      "\u001b[1;31mValueError\u001b[0m                                Traceback (most recent call last)",
      "\u001b[1;32mc:\\Users\\hp\\Documents\\VSCode\\Matematicas Avanzadas\\clase_24-08-22.ipynb Celda 12\u001b[0m in \u001b[0;36m<cell line: 1>\u001b[1;34m()\u001b[0m\n\u001b[1;32m----> <a href='vscode-notebook-cell:/c%3A/Users/hp/Documents/VSCode/Matematicas%20Avanzadas/clase_24-08-22.ipynb#X16sZmlsZQ%3D%3D?line=0'>1</a>\u001b[0m math\u001b[39m.\u001b[39;49msqrt(\u001b[39m-\u001b[39;49m\u001b[39m1.0\u001b[39;49m)\n",
      "\u001b[1;31mValueError\u001b[0m: math domain error"
     ]
    }
   ],
   "source": [
    "math.sqrt(-1.0)"
   ]
  },
  {
   "cell_type": "markdown",
   "metadata": {},
   "source": [
    "# Representación numerica"
   ]
  },
  {
   "cell_type": "code",
   "execution_count": 13,
   "metadata": {},
   "outputs": [
    {
     "data": {
      "text/plain": [
       "4"
      ]
     },
     "execution_count": 13,
     "metadata": {},
     "output_type": "execute_result"
    }
   ],
   "source": [
    "2+2 #suma"
   ]
  },
  {
   "cell_type": "markdown",
   "metadata": {},
   "source": [
    "## Ejercicio \n",
    "Escribir un metodo que imite un abono."
   ]
  },
  {
   "cell_type": "code",
   "execution_count": 14,
   "metadata": {},
   "outputs": [],
   "source": [
    "class tarjeta:\n",
    "    def __init__(self,cliente, banco, cuenta, cod_seg, limit, Date_Cut):\n",
    "        self._cliente = cliente\n",
    "        self.banco = banco\n",
    "        self._cuenta = cuenta\n",
    "        self._cod_seg = cod_seg\n",
    "        self._limit = limit\n",
    "        self._Date_Cut = Date_Cut\n",
    "        self._balance = 0\n",
    "    \n",
    "    # Metodo\n",
    "    def get_cliente(self):\n",
    "        return self._cliente\n",
    "    \n",
    "    def get_banco(self):\n",
    "        return self.banco\n",
    "    \n",
    "    def get_cuenta(self):\n",
    "        return self._cuenta\n",
    "    \n",
    "    def get_limit(self):\n",
    "        return self._limit\n",
    "    \n",
    "    def get_balance(self):\n",
    "        return self._balance\n",
    "\n",
    "    def allow_charge(self, precio):\n",
    "\n",
    "        if precio + self._balance <= self.limit:\n",
    "            self._balance = precio + self._balance\n",
    "            print(\"Compra aceptada\")\n",
    "        else:\n",
    "            print(\"Compra no aceptada\")\n",
    "\n",
    "    def abono(self, abono):\n",
    "        if abono - self._balance == 0:\n",
    "            print(\"Deuda saldada\")\n",
    "        else:\n",
    "            print(\"No cubres la deuda que tienes\")\n",
    "\n"
   ]
  },
  {
   "cell_type": "markdown",
   "metadata": {},
   "source": [
    "## Ejercicio 2\n",
    "\n",
    "Crear un método para un personaje con nombre, edad, genero, altura, peso, direccion, con dos metodos adicionales para su cumpleaños y si hizo dieta."
   ]
  },
  {
   "cell_type": "code",
   "execution_count": 55,
   "metadata": {},
   "outputs": [],
   "source": [
    "from random import randrange\n",
    "\n",
    "class Personaje:\n",
    "    \n",
    "    def __init__ (self, nombre, edad, genero, altura, peso, direccion):\n",
    "        self.nombre = nombre\n",
    "        self.edad = edad\n",
    "        self.genero = genero\n",
    "        self.altura = altura\n",
    "        self.peso = peso\n",
    "        self.direccion = direccion\n",
    "\n",
    "    # Metodos\n",
    "    def get_nombre(self):\n",
    "        return self.nombre\n",
    "    \n",
    "    def get_edad(self):\n",
    "        return self.edad\n",
    "    \n",
    "    def get_genero(self):\n",
    "        return self.genero\n",
    "    \n",
    "    def get_altura(self):\n",
    "        return self.altura\n",
    "    \n",
    "    def get_peso(self):\n",
    "        return self.peso\n",
    "    \n",
    "    def get_direccion(self):\n",
    "        return self.direccion\n",
    "\n",
    "    def cumpleanio(self):\n",
    "        num = randrange(2)\n",
    "        if num == 1:\n",
    "            self.edad = self.edad + 1\n",
    "            print(\"Es tu cumpleaños\", self.edad)\n",
    "        else:\n",
    "            print(\"No es tu cumpleaños\")\n",
    "\n",
    "    def dieta(self, peso_actual):\n",
    "        if self.peso <= peso_actual:\n",
    "            print(\"No has hecho dieta\")\n",
    "            self.peso = peso_actual\n",
    "        else:\n",
    "            print(\"Haz bajado de peso\")\n",
    "            self.peso = peso_actual\n",
    "        \n",
    "    def __str__(self):\n",
    "        cadena = \"Nombre: {0}\\n\".format(self.nombre)\n",
    "        cadena = cadena + \"Edad: {0}\\n\".format(self.edad)\n",
    "        cadena = cadena + \"Genero: {0}\\n\".format(self.genero)\n",
    "        cadena = cadena + \"Altura: {0}\\n\".format(self.altura)\n",
    "        cadena = cadena + \"Peso: {0}\\n\".format(self.peso)\n",
    "        cadena = cadena + \"Direccion: {0}\\n\".format(self.direccion)\n",
    "        cadena = cadena + \"Edad: {0} \\n\".format(self.edad)\n",
    "        cadena = cadena + \"Peso: {0}\\n\".format(self.peso)\n",
    "        return cadena\n",
    "\n"
   ]
  },
  {
   "cell_type": "code",
   "execution_count": 56,
   "metadata": {},
   "outputs": [],
   "source": [
    "personaje1 = Personaje(\"Hector\", 25, \"Mascuino\", 1.75, 75, \"Calle del infierno\")"
   ]
  },
  {
   "cell_type": "code",
   "execution_count": 62,
   "metadata": {},
   "outputs": [
    {
     "name": "stdout",
     "output_type": "stream",
     "text": [
      "Nombre: Hector\n",
      "Edad: 25\n",
      "Genero: Mascuino\n",
      "Altura: 1.75\n",
      "Peso: 15\n",
      "Direccion: Calle del infierno\n",
      "Edad: 25 \n",
      "Peso: 15\n",
      "\n"
     ]
    }
   ],
   "source": [
    "print(personaje1)"
   ]
  },
  {
   "cell_type": "code",
   "execution_count": 61,
   "metadata": {},
   "outputs": [
    {
     "name": "stdout",
     "output_type": "stream",
     "text": [
      "Haz bajado de peso\n"
     ]
    }
   ],
   "source": [
    "personaje1.dieta(15)"
   ]
  },
  {
   "cell_type": "code",
   "execution_count": null,
   "metadata": {},
   "outputs": [],
   "source": [
    "class calcula_tiempo:\n",
    "    def __init__(self,)"
   ]
  }
 ],
 "metadata": {
  "kernelspec": {
   "display_name": "Python 3.10.5 64-bit",
   "language": "python",
   "name": "python3"
  },
  "language_info": {
   "codemirror_mode": {
    "name": "ipython",
    "version": 3
   },
   "file_extension": ".py",
   "mimetype": "text/x-python",
   "name": "python",
   "nbconvert_exporter": "python",
   "pygments_lexer": "ipython3",
   "version": "3.10.5"
  },
  "orig_nbformat": 4,
  "vscode": {
   "interpreter": {
    "hash": "63963b3f4c440940f0b94a3100916033a226cb4f45979123153792d60aa56d6a"
   }
  }
 },
 "nbformat": 4,
 "nbformat_minor": 2
}
