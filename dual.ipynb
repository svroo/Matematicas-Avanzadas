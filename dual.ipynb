{
 "cells": [
  {
   "cell_type": "code",
   "execution_count": 40,
   "metadata": {},
   "outputs": [],
   "source": [
    "import math\n",
    "import numpy as np\n",
    "from tabulate import tabulate\n",
    "\n",
    "def to_objective_function_value(c, solution):\n",
    "    return sum(np.array(c) * np.array(solution))\n",
    "\n",
    "def pivot_step(tableau, pivot_position):\n",
    "    new_tableau = [[] for eq in tableau]\n",
    "    \n",
    "    i, j = pivot_position\n",
    "    pivot_value = tableau[i][j]\n",
    "    new_tableau[i] = np.array(tableau[i]) / pivot_value\n",
    "    \n",
    "    for eq_i, eq in enumerate(tableau):\n",
    "        if eq_i != i:\n",
    "            multiplier = np.array(new_tableau[i]) * tableau[eq_i][j]\n",
    "            new_tableau[eq_i] = np.array(tableau[eq_i]) - multiplier\n",
    "   \n",
    "    return new_tableau\n",
    "\n",
    "def is_basic(column):\n",
    "    return sum(column) == 1 and len([c for c in column if c == 0]) == len(column) - 1\n",
    "\n",
    "def get_solution(tableau):\n",
    "    columns = np.array(tableau).T\n",
    "    solutions = []\n",
    "    for column in columns[:-1]:\n",
    "        solution = 0\n",
    "        if is_basic(column):\n",
    "            one_index = column.tolist().index(1)\n",
    "            solution = columns[-1][one_index]\n",
    "        solutions.append(solution)\n",
    "        \n",
    "    return solutions\n",
    "\n",
    "def to_tableau(c, A, b):\n",
    "    xb = [eq + [x] for eq, x in zip(A, b)]\n",
    "    z = c + [0]\n",
    "    return xb + [z]\n",
    "\n",
    "def can_be_improved_for_dual(tableau):\n",
    "    rhs_entries = [row[-1] for row in tableau[:-1]]\n",
    "    return any([entry < 0 for entry in rhs_entries])\n",
    "\n",
    "def get_pivot_position_for_dual(tableau):\n",
    "    rhs_entries = [row[-1] for row in tableau[:-1]]\n",
    "    min_rhs_value = min(rhs_entries)\n",
    "    row = rhs_entries.index(min_rhs_value)\n",
    "    \n",
    "    columns = []\n",
    "    for index, element in enumerate(tableau[row][:-1]):\n",
    "        if element < 0:\n",
    "            columns.append(index)\n",
    "    columns_values = [tableau[row][c] / tableau[-1][c] for c in columns]\n",
    "    column_min_index = columns_values.index(min(columns_values))\n",
    "    column = columns[column_min_index]\n",
    "\n",
    "\n",
    "    return row, column\n",
    "\n",
    "def dual_simplex(c, A, b):\n",
    "    tableau = to_tableau(c, A, b)\n",
    "    print('inicio\\n',tabulate(tableau))\n",
    "    i = 0\n",
    "\n",
    "    while can_be_improved_for_dual(tableau):\n",
    "        pivot_position = get_pivot_position_for_dual(tableau)\n",
    "        tableau = pivot_step(tableau, pivot_position)\n",
    "        \n",
    "        print(f'iteracion {i}\\n',tabulate(tableau))\n",
    "        i += 1\n",
    "\n",
    "    return get_solution(tableau)"
   ]
  },
  {
   "cell_type": "code",
   "execution_count": 38,
   "metadata": {},
   "outputs": [],
   "source": [
    "\n",
    "c = [4,12,18,0,0]\n",
    "A = [\n",
    "    [-1,0,-3,1,0],\n",
    "    [0,-2,-2,0,1]\n",
    "]\n",
    "b = [-3,-5]"
   ]
  },
  {
   "cell_type": "code",
   "execution_count": 41,
   "metadata": {},
   "outputs": [
    {
     "name": "stdout",
     "output_type": "stream",
     "text": [
      "inicio\n",
      " --  --  --  -  -  --\n",
      "-1   0  -3  1  0  -3\n",
      " 0  -2  -2  0  1  -5\n",
      " 4  12  18  0  0   0\n",
      "--  --  --  -  -  --\n",
      "iteracion 0\n",
      " --  -  --  --  ----  -----\n",
      "-1  0  -3   1   0     -3\n",
      "-0  1   1  -0  -0.5    2.5\n",
      " 4  0   6   0   6    -30\n",
      "--  -  --  --  ----  -----\n",
      "iteracion 1\n",
      " ---------  --  -  ---------  ----  -----\n",
      " 0.333333  -0  1  -0.333333  -0      1\n",
      "-0.333333   1  0   0.333333  -0.5    1.5\n",
      " 2          0  0   2          6    -36\n",
      "---------  --  -  ---------  ----  -----\n"
     ]
    },
    {
     "data": {
      "text/plain": [
       "[0, 1.5, 1.0, 0, 0]"
      ]
     },
     "execution_count": 41,
     "metadata": {},
     "output_type": "execute_result"
    }
   ],
   "source": [
    "dual_simplex(c, A, b)"
   ]
  },
  {
   "cell_type": "code",
   "execution_count": 5,
   "metadata": {},
   "outputs": [
    {
     "name": "stdout",
     "output_type": "stream",
     "text": [
      "Dual:  -15.0\n"
     ]
    }
   ],
   "source": [
    "\n",
    "dual = to_objective_function_value(c, dual_simplex(c, A, b))\n",
    "print('Dual: ', dual)\n"
   ]
  }
 ],
 "metadata": {
  "kernelspec": {
   "display_name": "Python 3.9.13 ('base')",
   "language": "python",
   "name": "python3"
  },
  "language_info": {
   "codemirror_mode": {
    "name": "ipython",
    "version": 3
   },
   "file_extension": ".py",
   "mimetype": "text/x-python",
   "name": "python",
   "nbconvert_exporter": "python",
   "pygments_lexer": "ipython3",
   "version": "3.9.13"
  },
  "orig_nbformat": 4,
  "vscode": {
   "interpreter": {
    "hash": "e42634819b8c191a5d07eaf23810ff32516dd8d3875f28ec3e488928fbd3c187"
   }
  }
 },
 "nbformat": 4,
 "nbformat_minor": 2
}
