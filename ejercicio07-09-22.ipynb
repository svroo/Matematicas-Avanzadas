{
 "cells": [
  {
   "cell_type": "markdown",
   "metadata": {},
   "source": [
    "## Ejercicio\n",
    "\n",
    "Dada una matriz y vectores b,c hallar la solución usando el metodo simplex.\n",
    "\n",
    "|minimizar:|$x_1 - 3x_2$|\n",
    "|---|---|\n",
    "|Sujeto a: | $2x_1 + 3x_2 \\leq 6 \\\\ -x_1 + x_2 \\leq 1 \\\\ x_1, x_2 \\geq 0$|\n"
   ]
  },
  {
   "cell_type": "code",
   "execution_count": 3,
   "metadata": {},
   "outputs": [],
   "source": [
    "# Imporamos librerias a ocupar\n",
    "import numpy as np"
   ]
  },
  {
   "cell_type": "code",
   "execution_count": 116,
   "metadata": {},
   "outputs": [],
   "source": [
    "def metodo_simplex(A, b, c):\n",
    "    m =len(A)\n",
    "    n = len(A[0])\n",
    "    B = np.array([])\n",
    "    for i in range(m):\n",
    "        for j in range(n):\n",
    "            n\n",
    "    B = np.matrix([[A[0,0], A[0,1]], [A[1,0], A[1,1]]])\n",
    "    B_inv = np.linalg.inv(B)\n",
    "\n",
    "    "
   ]
  },
  {
   "cell_type": "code",
   "execution_count": 97,
   "metadata": {},
   "outputs": [],
   "source": [
    "A = np.array([[2, 3, 1, 0], [-1, 1, 0, 0]])\n",
    "b = np.array(([6],[1]))\n",
    "c = np.array(([-1], [-3], [0], [0]))\n",
    "metodo_simplex(A, b, c)"
   ]
  },
  {
   "cell_type": "code",
   "execution_count": 120,
   "metadata": {},
   "outputs": [
    {
     "data": {
      "text/plain": [
       "[2, 3, 1, 0, [], -1, 1, 0, 0, []]"
      ]
     },
     "execution_count": 120,
     "metadata": {},
     "output_type": "execute_result"
    }
   ],
   "source": [
    "m =len(A)\n",
    "n = len(A[0])\n",
    "B = []\n",
    "for i in range(m):\n",
    "    \n",
    "    for j in range(n):\n",
    "        B.append(A[i][j])\n",
    "B"
   ]
  }
 ],
 "metadata": {
  "kernelspec": {
   "display_name": "Python 3.10.5 64-bit",
   "language": "python",
   "name": "python3"
  },
  "language_info": {
   "codemirror_mode": {
    "name": "ipython",
    "version": 3
   },
   "file_extension": ".py",
   "mimetype": "text/x-python",
   "name": "python",
   "nbconvert_exporter": "python",
   "pygments_lexer": "ipython3",
   "version": "3.10.5"
  },
  "orig_nbformat": 4,
  "vscode": {
   "interpreter": {
    "hash": "63963b3f4c440940f0b94a3100916033a226cb4f45979123153792d60aa56d6a"
   }
  }
 },
 "nbformat": 4,
 "nbformat_minor": 2
}
