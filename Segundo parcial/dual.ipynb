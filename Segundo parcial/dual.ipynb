{
 "cells": [
  {
   "cell_type": "code",
   "execution_count": 1,
   "metadata": {},
   "outputs": [],
   "source": [
    "import math\n",
    "import numpy as np\n",
    "from tabulate import tabulate\n",
    "\n",
    "def to_objective_function_value(c, solution):\n",
    "    return sum(np.array(c) * np.array(solution))\n",
    "\n",
    "def pivot_step(tableau, pivot_position):\n",
    "    new_tableau = [[] for eq in tableau]\n",
    "    \n",
    "    i, j = pivot_position\n",
    "    pivot_value = tableau[i][j]\n",
    "    new_tableau[i] = np.array(tableau[i]) / pivot_value\n",
    "    \n",
    "    for eq_i, eq in enumerate(tableau):\n",
    "        if eq_i != i:\n",
    "            multiplier = np.array(new_tableau[i]) * tableau[eq_i][j]\n",
    "            new_tableau[eq_i] = np.array(tableau[eq_i]) - multiplier\n",
    "   \n",
    "    return new_tableau\n",
    "\n",
    "def is_basic(column):\n",
    "    return sum(column) == 1 and len([c for c in column if c == 0]) == len(column) - 1\n",
    "\n",
    "def get_solution(tableau):\n",
    "    columns = np.array(tableau).T\n",
    "    solutions = []\n",
    "    for column in columns[:-1]:\n",
    "        solution = 0\n",
    "        if is_basic(column):\n",
    "            one_index = column.tolist().index(1)\n",
    "            solution = columns[-1][one_index]\n",
    "        solutions.append(solution)\n",
    "        \n",
    "    return solutions\n",
    "\n",
    "def to_tableau(c, A, b):\n",
    "    xb = [eq + [x] for eq, x in zip(A, b)]\n",
    "    z = c + [0]\n",
    "    return xb + [z]\n",
    "\n",
    "def can_be_improved_for_dual(tableau):\n",
    "    rhs_entries = [row[-1] for row in tableau[:-1]]\n",
    "    return any([entry < 0 for entry in rhs_entries])\n",
    "\n",
    "def get_pivot_position_for_dual(tableau):\n",
    "    rhs_entries = [row[-1] for row in tableau[:-1]]\n",
    "    min_rhs_value = min(rhs_entries)\n",
    "    row = rhs_entries.index(min_rhs_value)\n",
    "    \n",
    "    columns = []\n",
    "    for index, element in enumerate(tableau[row][:-1]):\n",
    "        if element < 0:\n",
    "            columns.append(index)\n",
    "    columns_values = [tableau[row][c] / tableau[-1][c] for c in columns]\n",
    "    column_min_index = columns_values.index(min(columns_values))\n",
    "    column = columns[column_min_index]\n",
    "\n",
    "\n",
    "    return row, column\n",
    "\n",
    "def dual_simplex(c, A, b):\n",
    "    tableau = to_tableau(c, A, b)\n",
    "    print('inicio\\n',tabulate(tableau))\n",
    "    i = 0\n",
    "\n",
    "    while can_be_improved_for_dual(tableau):\n",
    "        pivot_position = get_pivot_position_for_dual(tableau)\n",
    "        tableau = pivot_step(tableau, pivot_position)\n",
    "        \n",
    "        print(f'iteracion {i}\\n',tabulate(tableau))\n",
    "        i += 1\n",
    "\n",
    "    return get_solution(tableau)"
   ]
  },
  {
   "cell_type": "code",
   "execution_count": 2,
   "metadata": {},
   "outputs": [
    {
     "name": "stdout",
     "output_type": "stream",
     "text": [
      "inicio\n",
      " --  -  -  -  -\n",
      "-1  2  1  0  1\n",
      "-1  3  0  1  6\n",
      "-2  3  0  0  0\n",
      "--  -  -  -  -\n",
      "inicio\n",
      " --  -  -  -  -\n",
      "-1  2  1  0  1\n",
      "-1  3  0  1  6\n",
      "-2  3  0  0  0\n",
      "--  -  -  -  -\n",
      "La solución es: [0, 0, 1, 6], con un Z = 0\n"
     ]
    }
   ],
   "source": [
    "c = [-2, 3, 0, 0]\n",
    "A = [\n",
    "    [-1, 2, 1, 0],\n",
    "    [-1, 3, 0, 1]\n",
    "]\n",
    "b = [1,6]\n",
    "\n",
    "dual = dual_simplex(c, A, b)\n",
    "z = to_objective_function_value(c, dual_simplex(c, A, b))\n",
    "print(f'La solución es: {dual}, con un Z = {z}')"
   ]
  },
  {
   "cell_type": "code",
   "execution_count": 7,
   "metadata": {},
   "outputs": [
    {
     "name": "stdout",
     "output_type": "stream",
     "text": [
      "La solución es: [0, 1.5, 1.0, 0, 0], con un Z = 36.0\n"
     ]
    }
   ],
   "source": [
    "c = [4,12,18,0,0]\n",
    "A = [\n",
    "    [-1,0,-3,1,0],\n",
    "    [0,-2,-2,0,1]\n",
    "]\n",
    "b = [-3,-5]\n",
    "\n",
    "dual = dual_simplex(c, A, b)\n",
    "z = to_objective_function_value(c, dual_simplex(c, A, b))\n",
    "print(f'La solución es: {dual}, con un Z = {z}')"
   ]
  },
  {
   "cell_type": "markdown",
   "metadata": {},
   "source": [
    "## Ejercicio 6.6\n",
    "\n",
    "<img src=\"images\\Ejercicio 6.6.png\">"
   ]
  },
  {
   "cell_type": "code",
   "execution_count": 14,
   "metadata": {},
   "outputs": [
    {
     "name": "stdout",
     "output_type": "stream",
     "text": [
      "La solución es: [0.6, 1.2000000000000002, 0, 0, 1.1102230246251565e-16], con un Z = 2.4000000000000004\n"
     ]
    }
   ],
   "source": [
    "c = [2, 1, 0, 0, 0]\n",
    "A = [\n",
    "    [-3, -1, 1, 0, 0],\n",
    "    [-4, -3, 0, 1, 0],\n",
    "    [-1, -2, 0, 0, 1]\n",
    "]\n",
    "b = [-3, -6, -3]\n",
    "\n",
    "dual = dual_simplex(c, A, b)\n",
    "z = to_objective_function_value(c, dual_simplex(c, A, b))\n",
    "print(f'La solución es: {dual}, con un Z = {z}')"
   ]
  },
  {
   "cell_type": "code",
   "execution_count": 18,
   "metadata": {},
   "outputs": [
    {
     "name": "stdout",
     "output_type": "stream",
     "text": [
      "La solución es: [1.0, 0.0, 0, 0, 0, 0], con un Z = -2.0\n"
     ]
    }
   ],
   "source": [
    "c = [-2, -3, 0, 0, 0, 0]\n",
    "A = [\n",
    "    [-3, -2, 1, 1, 1, 0],\n",
    "    [-2, -1, 1, -1, 0, 1]\n",
    "]\n",
    "b = [-3, -2]\n",
    "\n",
    "dual = dual_simplex(c, A, b)\n",
    "z = to_objective_function_value(c, dual_simplex(c, A, b))\n",
    "print(f'La solución es: {dual}, con un Z = {z}')"
   ]
  }
 ],
 "metadata": {
  "kernelspec": {
   "display_name": "base",
   "language": "python",
   "name": "python3"
  },
  "language_info": {
   "codemirror_mode": {
    "name": "ipython",
    "version": 3
   },
   "file_extension": ".py",
   "mimetype": "text/x-python",
   "name": "python",
   "nbconvert_exporter": "python",
   "pygments_lexer": "ipython3",
   "version": "3.9.12 (main, Apr  4 2022, 05:22:27) [MSC v.1916 64 bit (AMD64)]"
  },
  "orig_nbformat": 4,
  "vscode": {
   "interpreter": {
    "hash": "b302cdd1e032ee910f5c889c3360c28564c92ad4f326fc3102e39fbe47faee66"
   }
  }
 },
 "nbformat": 4,
 "nbformat_minor": 2
}
